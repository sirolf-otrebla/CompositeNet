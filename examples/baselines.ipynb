{
 "cells": [
  {
   "cell_type": "code",
   "execution_count": null,
   "outputs": [],
   "source": [
    "def indices_conv_reduction(self, input_pts, K, npts):\n",
    "    indices, queries = nearest_neighbors.knn_batch_distance_pick(input_pts, npts, K, omp=True)\n",
    "\n",
    "    # TODO need to put some flag here\n",
    "    # if True:\n",
    "    #    indices = indices[:, :, 1:]\n",
    "\n",
    "     return indices, queries"
   ],
   "metadata": {
    "collapsed": false,
    "pycharm": {
     "name": "#%%\n"
    }
   }
  },
  {
   "cell_type": "code",
   "execution_count": 9,
   "outputs": [
    {
     "name": "stdout",
     "output_type": "stream",
     "text": [
      "Getting train files...\n",
      "Getting test files...\n",
      "done\n",
      "(2832, 6144)\n"
     ]
    }
   ],
   "source": [
    "\n",
    "from examples.adetection import ADModelNetDataContainer\n",
    "\n",
    "rootdir = \"../data/shapenetcorev2_hdf5_2048\"\n",
    "normal_class = 0\n",
    "anomalies = [1,2,3]\n",
    "dataset = ADModelNetDataContainer(rootdir, [normal_class], anomalies)\n",
    "\n",
    "train_data = dataset.getTrainData()\n",
    "test_data = dataset.getTestData()\n",
    "\n",
    "test_labels = dataset.getTestLabels()\n",
    "train_data = train_data.reshape(train_data.shape[0],-1)\n",
    "test_data = test_data.reshape(test_data.shape[0],-1)\n",
    "print(train_data.shape)\n",
    "\n"
   ],
   "metadata": {
    "collapsed": false,
    "pycharm": {
     "name": "#%%\n"
    }
   }
  },
  {
   "cell_type": "code",
   "execution_count": 10,
   "metadata": {},
   "outputs": [],
   "source": [
    "from utils import metrics\n",
    "import numpy as np\n",
    "import matplotlib.pyplot as plt\n",
    "import matplotlib.font_manager\n",
    "from sklearn import svm\n",
    "\n",
    "#xx, yy = np.meshgrid(np.linspace(-5, 5, 500), np.linspace(-5, 5, 500))\n",
    "# Generate train data\n",
    "#X = 0.3 * np.random.randn(100, 2)\n",
    "#X_train = np.r_[X + 2, X - 2]\n",
    "# Generate some regular novel observations\n",
    "#X = 0.3 * np.random.randn(20, 2)\n",
    "#X_test = np.r_[X + 2, X - 2]\n",
    "# Generate some abnormal novel observations\n",
    "#X_outliers = np.random.uniform(low=-4, high=4, size=(20, 2))\n",
    "\n",
    "# fit the model\n",
    "clf = svm.OneClassSVM(nu=0.1, kernel=\"rbf\", gamma=0.1)\n",
    "clf.fit(train_data)\n",
    "y_pred_train = clf.predict(test_data)\n",
    "\n",
    "auc = \"{:.4f}\".format(metrics.roc_auc_score(test_labels, distances))\n",
    "#y_pred_test = clf.predict(X_test)\n",
    "#y_pred_outliers = clf.predict(X_outliers)\n",
    "#n_error_train = y_pred_train[y_pred_train == -1].size\n",
    "#n_error_test = y_pred_test[y_pred_test == -1].size\n",
    "#n_error_outliers = y_pred_outliers[y_pred_outliers == 1].size\n",
    "\n",
    "# plot the line, the points, and the nearest vectors to the plane\n",
    "# Z = clf.decision_function(np.c_[xx.ravel(), yy.ravel()])\n",
    "# Z = Z.reshape(xx.shape)\n",
    "\n",
    "# plt.title(\"Novelty Detection\")\n",
    "# plt.contourf(xx, yy, Z, levels=np.linspace(Z.min(), 0, 7), cmap=plt.cm.PuBu)\n",
    "# a = plt.contour(xx, yy, Z, levels=[0], linewidths=2, colors='darkred')\n",
    "# plt.contourf(xx, yy, Z, levels=[0, Z.max()], colors='palevioletred')\n",
    "\n",
    "# s = 40\n",
    "# b1 = plt.scatter(X_train[:, 0], X_train[:, 1], c='white', s=s, edgecolors='k')\n",
    "# b2 = plt.scatter(X_test[:, 0], X_test[:, 1], c='blueviolet', s=s,\n",
    "#                 edgecolors='k')\n",
    "# c = plt.scatter(X_outliers[:, 0], X_outliers[:, 1], c='gold', s=s,\n",
    "#                 edgecolors='k')\n",
    "# plt.axis('tight')\n",
    "# plt.xlim((-5, 5))\n",
    "# plt.ylim((-5, 5))\n",
    "# plt.legend([a.collections[0], b1, b2, c],\n",
    "#           [\"learned frontier\", \"training observations\",\n",
    "#            \"new regular observations\", \"new abnormal observations\"],\n",
    "#           loc=\"upper left\",\n",
    "#           prop=matplotlib.font_manager.FontProperties(size=11))\n",
    "#plt.xlabel(\n",
    "#    \"error train: %d/200 ; errors novel regular: %d/40 ; \"\n",
    "#    \"errors novel abnormal: %d/40\"\n",
    "#    % (n_error_train, n_error_test, n_error_outliers))\n",
    "# plt.show()"
   ]
  }
 ],
 "metadata": {
  "kernelspec": {
   "display_name": "Python 3",
   "language": "python",
   "name": "python3"
  },
  "language_info": {
   "codemirror_mode": {
    "name": "ipython",
    "version": 3
   },
   "file_extension": ".py",
   "mimetype": "text/x-python",
   "name": "python",
   "nbconvert_exporter": "python",
   "pygments_lexer": "ipython3",
   "version": "3.9.5"
  }
 },
 "nbformat": 4,
 "nbformat_minor": 1
}